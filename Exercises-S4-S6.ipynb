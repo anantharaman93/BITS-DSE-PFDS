{
 "cells": [
  {
   "cell_type": "markdown",
   "metadata": {},
   "source": [
    "Write a NumPy program to find the number of elements of an array, length of one array element in bytes and total bytes consumed by the elements"
   ]
  },
  {
   "cell_type": "code",
   "execution_count": 2,
   "metadata": {},
   "outputs": [],
   "source": [
    "import numpy as np\n",
    "import sys"
   ]
  },
  {
   "cell_type": "code",
   "execution_count": 4,
   "metadata": {},
   "outputs": [
    {
     "name": "stdout",
     "output_type": "stream",
     "text": [
      "No of elements ::  10\n",
      "Size of single element ::  32\n",
      "Size of all elements ::  184\n"
     ]
    }
   ],
   "source": [
    "array = np.array([1, 2, 3, 4, 5, 6, 7, 8, 9, 10])\n",
    "print(\"No of elements :: \", array.size)\n",
    "print(\"Size of single element :: \", sys.getsizeof(array[0]))\n",
    "print(\"Size of all elements :: \", sys.getsizeof(array))\n"
   ]
  },
  {
   "cell_type": "markdown",
   "metadata": {},
   "source": [
    "Write a NumPy program to find the set difference of two arrays. The set difference will return the sorted, unique values in array1 that are not in array2"
   ]
  },
  {
   "cell_type": "code",
   "execution_count": 8,
   "metadata": {},
   "outputs": [
    {
     "name": "stdout",
     "output_type": "stream",
     "text": [
      "Array1 ::  [ 1  4  7 10 13 16 19 22 25 28]\n",
      "Array2 ::  [ 1  6 11 16 21 26 31 36 41 46 51 56 61 66 71]\n",
      "Set Difference ::  [ 4  7 10 13 19 22 25 28]\n"
     ]
    }
   ],
   "source": [
    "array1 = np.arange(1, 30, 3)\n",
    "print(\"Array1 :: \", array1)\n",
    "array2 = np.arange(1, 75, 5)\n",
    "print(\"Array2 :: \", array2)\n",
    "print(\"Set Difference :: \", np.setdiff1d(array1, array2))"
   ]
  },
  {
   "cell_type": "markdown",
   "metadata": {},
   "source": [
    "Write a NumPy program to compute the cross product of two given vectors"
   ]
  },
  {
   "cell_type": "code",
   "execution_count": 11,
   "metadata": {},
   "outputs": [
    {
     "name": "stdout",
     "output_type": "stream",
     "text": [
      "Cross product ::  [-6 -2  2]\n"
     ]
    }
   ],
   "source": [
    "array1 = np.array([1, 3, 6])\n",
    "array2 = np.array([1, 5, 8])\n",
    "print(\"Cross product :: \", np.cross(array1, array2))"
   ]
  },
  {
   "cell_type": "code",
   "execution_count": null,
   "metadata": {},
   "outputs": [],
   "source": []
  }
 ],
 "metadata": {
  "interpreter": {
   "hash": "4abef517ba9674bba0a711b24b436908f083d341dd15bba4a601c7fa9a36111c"
  },
  "kernelspec": {
   "display_name": "Python 3.8.12 64-bit ('base': conda)",
   "name": "python3"
  },
  "language_info": {
   "codemirror_mode": {
    "name": "ipython",
    "version": 3
   },
   "file_extension": ".py",
   "mimetype": "text/x-python",
   "name": "python",
   "nbconvert_exporter": "python",
   "pygments_lexer": "ipython3",
   "version": "3.8.12"
  },
  "orig_nbformat": 4
 },
 "nbformat": 4,
 "nbformat_minor": 2
}
