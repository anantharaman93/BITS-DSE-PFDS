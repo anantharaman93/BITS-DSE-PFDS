{
 "cells": [
  {
   "cell_type": "markdown",
   "metadata": {},
   "source": [
    "Given a number, find the sum of its digits. Take the number as an input from the user"
   ]
  },
  {
   "cell_type": "code",
   "execution_count": 3,
   "metadata": {},
   "outputs": [
    {
     "name": "stdout",
     "output_type": "stream",
     "text": [
      "Result :  17\n"
     ]
    }
   ],
   "source": [
    "value = int(input(\"Enter Number : \"))\n",
    "total = 0;\n",
    "while value > 0:\n",
    "    total += value % 10\n",
    "    value //= 10\n",
    "print(\"Result : \", total)\n"
   ]
  },
  {
   "cell_type": "markdown",
   "metadata": {},
   "source": [
    "Given a number, check whether the given number is an Armstrong number or not.  A positive integer is called an Armstrong number of order n if: \n",
    "abcd... = an + bn + cn + dn + ... \n",
    "Example: 153 = 1 * 1 * 1 + 5 * 5 * 5 + 3 * 3 * 3 \n",
    "153 is an Armstrong number of order 3"
   ]
  },
  {
   "cell_type": "code",
   "execution_count": 12,
   "metadata": {},
   "outputs": [
    {
     "name": "stdout",
     "output_type": "stream",
     "text": [
      "Result :  153\n",
      "Is Armstrong Number :  True\n"
     ]
    }
   ],
   "source": [
    "value = int(input(\"Enter a number : \"))\n",
    "actualValue = value\n",
    "order = int(input(\"Enter the order : \"))\n",
    "total = 0\n",
    "while value > 0:\n",
    "    total += (value % 10) ** order\n",
    "    value //= 10\n",
    "print(\"Result : \", total)\n",
    "print(\"Is Armstrong Number : \", actualValue == total)\n"
   ]
  },
  {
   "cell_type": "markdown",
   "metadata": {},
   "source": [
    "Given a string, write a python function to check if it is palindrome or not. A string is said to be palindrome if the reverse of the string is the same as string. For example, “malayalam” is a palindrome, but “music” is not a palindrome."
   ]
  },
  {
   "cell_type": "code",
   "execution_count": 14,
   "metadata": {},
   "outputs": [
    {
     "name": "stdout",
     "output_type": "stream",
     "text": [
      "Reverse String :  wow\n",
      "Is Palindrome :  True\n",
      "Is Palindrome 2 :  True\n"
     ]
    }
   ],
   "source": [
    "value = input(\"Enter a string : \")\n",
    "result = []\n",
    "for idx in reversed(range(len(value))):\n",
    "    result.append(value[idx])\n",
    "print(\"Reverse String : \", ''.join(result))\n",
    "print(\"Is Palindrome : \", value == ''.join(result))\n",
    "result2 = value[::-1]\n",
    "print(\"Is Palindrome 2 : \", value == result2)"
   ]
  },
  {
   "cell_type": "markdown",
   "metadata": {},
   "source": [
    "Given an array which may contain duplicates, print all elements and their frequencies"
   ]
  },
  {
   "cell_type": "code",
   "execution_count": 15,
   "metadata": {},
   "outputs": [
    {
     "name": "stdout",
     "output_type": "stream",
     "text": [
      "Distinct Values :  {'1': 7, '2': 5, '0': 4, '3': 1, '5': 1}\n"
     ]
    }
   ],
   "source": [
    "values = input(\"Enter values seperated by comma : \").split(',')\n",
    "dist = {}\n",
    "for value in values:\n",
    "    if value in dist:\n",
    "        dist[value] += 1\n",
    "    else:\n",
    "        dist[value] = 1\n",
    "print(\"Distinct Values : \", dist)"
   ]
  },
  {
   "cell_type": "markdown",
   "metadata": {},
   "source": [
    "Given a number n, write a function to print all prime factors of n. For example, if the input number is 12, then output should be “2 2 3”"
   ]
  },
  {
   "cell_type": "code",
   "execution_count": 16,
   "metadata": {},
   "outputs": [
    {
     "name": "stdout",
     "output_type": "stream",
     "text": [
      "Factors :  [2, 2, 3]\n"
     ]
    }
   ],
   "source": [
    "value = int(input(\"Enter a number : \"))\n",
    "factors = []\n",
    "for num in range(2, value):\n",
    "    while value % num == 0:\n",
    "        factors.append(num)\n",
    "        value //= num\n",
    "if (value > 2):\n",
    "    factors.append(value)\n",
    "print(\"Factors : \", factors)"
   ]
  },
  {
   "cell_type": "markdown",
   "metadata": {},
   "source": [
    "Given two numbers n and r, find the value of nCr (binomial coefficient: nCr = (n!) / (r! * (n-r)!))"
   ]
  },
  {
   "cell_type": "code",
   "execution_count": 17,
   "metadata": {},
   "outputs": [
    {
     "name": "stdout",
     "output_type": "stream",
     "text": [
      "Binomial Coefficient :  252\n"
     ]
    }
   ],
   "source": [
    "def factorial(n: int) -> int:\n",
    "    if n <= 1:\n",
    "        return 1\n",
    "    else:\n",
    "        return n * factorial(n - 1)\n",
    "\n",
    "def binomial(n: int, r: int) -> int:\n",
    "    return factorial(n) // (factorial(r) * factorial(n - r))\n",
    "\n",
    "n = int(input(\"Enter n : \"))\n",
    "r = int(input(\"Enter r : \"))\n",
    "print(\"Binomial Coefficient : \", binomial(n, r))"
   ]
  },
  {
   "cell_type": "markdown",
   "metadata": {},
   "source": [
    "Searching: Given a sorted array arr[] of n elements, write a function to search a given element x in arr[]. Do it using linear and binary search techniques"
   ]
  },
  {
   "cell_type": "code",
   "execution_count": 19,
   "metadata": {},
   "outputs": [
    {
     "name": "stdout",
     "output_type": "stream",
     "text": [
      "Binary Search :  6\n",
      "Linear Search :  6\n"
     ]
    }
   ],
   "source": [
    "def binarySearch(values, element):\n",
    "    start = 0\n",
    "    end = len(values) - 1\n",
    "    while start <= end:\n",
    "        mid = (start + end) // 2\n",
    "        if values[mid] == element:\n",
    "            return mid\n",
    "        elif values[mid] > element:\n",
    "            end = mid - 1\n",
    "        else:\n",
    "            start = mid + 1\n",
    "    return -1\n",
    "\n",
    "def linearSearch(values, element):\n",
    "    for idx, value in enumerate(values):\n",
    "        if value == element:\n",
    "            return idx\n",
    "    return -1\n",
    "\n",
    "values = input(\"Enter values seperated by comma : \").split(',')\n",
    "element = input(\"Enter element to search : \")\n",
    "print(\"Binary Search : \", binarySearch(values, element))\n",
    "print(\"Linear Search : \", linearSearch(values, element))"
   ]
  },
  {
   "cell_type": "markdown",
   "metadata": {},
   "source": [
    "Input a text file (containing 1 or more paragraphs of English text) from the user, parse this file to display the frequency of occurrence of each word in this text file. Find the 3 most frequent words as well"
   ]
  },
  {
   "cell_type": "code",
   "execution_count": 21,
   "metadata": {},
   "outputs": [
    {
     "name": "stdout",
     "output_type": "stream",
     "text": [
      "of 3\n",
      "the 3\n",
      "text 2\n"
     ]
    }
   ],
   "source": [
    "text = input(\"Enter text : \")\n",
    "with open('text.txt', 'w') as file:\n",
    "    file.write(text)\n",
    "\n",
    "with open('text.txt', 'r') as file:\n",
    "    content = file.read().split(' ')\n",
    "\n",
    "# Construct word and frequency array\n",
    "words = []\n",
    "frequency = []\n",
    "for word in content:\n",
    "    if word not in words:\n",
    "        words.append(word)\n",
    "        frequency.append(1)\n",
    "    else:\n",
    "        frequency[words.index(word)] += 1\n",
    "\n",
    "# sort\n",
    "for idx in range(len(frequency)):\n",
    "    for idx2 in range(idx + 1, len(frequency)):\n",
    "        if frequency[idx] < frequency[idx2]:\n",
    "            frequency[idx], frequency[idx2] = frequency[idx2], frequency[idx]\n",
    "            words[idx], words[idx2] = words[idx2], words[idx]\n",
    "\n",
    "for idx in range(3):\n",
    "    print(words[idx], frequency[idx])"
   ]
  },
  {
   "cell_type": "code",
   "execution_count": null,
   "metadata": {},
   "outputs": [],
   "source": []
  }
 ],
 "metadata": {
  "interpreter": {
   "hash": "4abef517ba9674bba0a711b24b436908f083d341dd15bba4a601c7fa9a36111c"
  },
  "kernelspec": {
   "display_name": "Python 3.8.12 64-bit ('base': conda)",
   "name": "python3"
  },
  "language_info": {
   "codemirror_mode": {
    "name": "ipython",
    "version": 3
   },
   "file_extension": ".py",
   "mimetype": "text/x-python",
   "name": "python",
   "nbconvert_exporter": "python",
   "pygments_lexer": "ipython3",
   "version": "3.8.12"
  },
  "orig_nbformat": 4
 },
 "nbformat": 4,
 "nbformat_minor": 2
}
